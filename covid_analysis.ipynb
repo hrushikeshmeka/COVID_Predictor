{
  "nbformat": 4,
  "nbformat_minor": 0,
  "metadata": {
    "kernelspec": {
      "display_name": "Python 3",
      "language": "python",
      "name": "python3"
    },
    "language_info": {
      "codemirror_mode": {
        "name": "ipython",
        "version": 3
      },
      "file_extension": ".py",
      "mimetype": "text/x-python",
      "name": "python",
      "nbconvert_exporter": "python",
      "pygments_lexer": "ipython3",
      "version": "3.8.5"
    },
    "colab": {
      "name": "covid_analysis.ipynb",
      "provenance": [],
      "collapsed_sections": [],
      "toc_visible": true,
      "include_colab_link": true
    },
    "accelerator": "GPU"
  },
  "cells": [
    {
      "cell_type": "markdown",
      "metadata": {
        "id": "view-in-github",
        "colab_type": "text"
      },
      "source": [
        "<a href=\"https://colab.research.google.com/github/hrushikeshmeka/COVID_Predictor/blob/master/covid_analysis.ipynb\" target=\"_parent\"><img src=\"https://colab.research.google.com/assets/colab-badge.svg\" alt=\"Open In Colab\"/></a>"
      ]
    },
    {
      "cell_type": "code",
      "metadata": {
        "id": "OiyOJGJ7tPxL"
      },
      "source": [
        "!pip install -q kaggle\n",
        "\n",
        "from google.colab import files"
      ],
      "execution_count": 1,
      "outputs": []
    },
    {
      "cell_type": "code",
      "metadata": {
        "colab": {
          "resources": {
            "http://localhost:8080/nbextensions/google.colab/files.js": {
              "data": "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",
              "ok": true,
              "headers": [
                [
                  "content-type",
                  "application/javascript"
                ]
              ],
              "status": 200,
              "status_text": ""
            }
          },
          "base_uri": "https://localhost:8080/",
          "height": 89
        },
        "id": "BL2aHyKHtnk6",
        "outputId": "556bae0f-3faf-435e-ca2e-dac68e18358b"
      },
      "source": [
        "files.upload()"
      ],
      "execution_count": 2,
      "outputs": [
        {
          "output_type": "display_data",
          "data": {
            "text/html": [
              "\n",
              "     <input type=\"file\" id=\"files-711e2f6c-0c41-4eab-a491-344c7d48dec0\" name=\"files[]\" multiple disabled\n",
              "        style=\"border:none\" />\n",
              "     <output id=\"result-711e2f6c-0c41-4eab-a491-344c7d48dec0\">\n",
              "      Upload widget is only available when the cell has been executed in the\n",
              "      current browser session. Please rerun this cell to enable.\n",
              "      </output>\n",
              "      <script src=\"/nbextensions/google.colab/files.js\"></script> "
            ],
            "text/plain": [
              "<IPython.core.display.HTML object>"
            ]
          },
          "metadata": {
            "tags": []
          }
        },
        {
          "output_type": "stream",
          "text": [
            "Saving kaggle.json to kaggle.json\n"
          ],
          "name": "stdout"
        },
        {
          "output_type": "execute_result",
          "data": {
            "text/plain": [
              "{'kaggle.json': b'{\"username\":\"hrushikeshmeka\",\"key\":\"48804c727df75dfd211d234877e89fd0\"}'}"
            ]
          },
          "metadata": {
            "tags": []
          },
          "execution_count": 2
        }
      ]
    },
    {
      "cell_type": "code",
      "metadata": {
        "id": "sOgIigldtsY6"
      },
      "source": [
        "! mkdir ~/.kaggle\n",
        "! cp kaggle.json ~/.kaggle/"
      ],
      "execution_count": 3,
      "outputs": []
    },
    {
      "cell_type": "code",
      "metadata": {
        "id": "SulbDQbit3rF"
      },
      "source": [
        " ! chmod 600 ~/.kaggle/kaggle.json"
      ],
      "execution_count": 4,
      "outputs": []
    },
    {
      "cell_type": "code",
      "metadata": {
        "id": "Ck3PqfRDt_Pv"
      },
      "source": [
        "! kaggle datasets list"
      ],
      "execution_count": null,
      "outputs": []
    },
    {
      "cell_type": "code",
      "metadata": {
        "colab": {
          "base_uri": "https://localhost:8080/"
        },
        "id": "RKN7GrYbuG9g",
        "outputId": "a4ddb717-56be-42f2-a85f-a9879fcd4836"
      },
      "source": [
        "\n",
        "!kaggle datasets download -d \"tawsifurrahman/covid19-radiography-database\""
      ],
      "execution_count": 6,
      "outputs": [
        {
          "output_type": "stream",
          "text": [
            "Downloading covid19-radiography-database.zip to /content\n",
            "100% 743M/745M [00:04<00:00, 183MB/s]\n",
            "100% 745M/745M [00:04<00:00, 179MB/s]\n"
          ],
          "name": "stdout"
        }
      ]
    },
    {
      "cell_type": "code",
      "metadata": {
        "id": "pmyup4UgupJo"
      },
      "source": [
        "! unzip covid19-radiography-database.zip -d covid19-radiography-database"
      ],
      "execution_count": null,
      "outputs": []
    },
    {
      "cell_type": "code",
      "metadata": {
        "id": "sZi2pELevBE_"
      },
      "source": [
        "from tensorflow.keras.layers import Dense,Conv2D,Flatten,MaxPooling2D\n",
        "from tensorflow.keras.models import Model\n",
        "from tensorflow.keras.applications import VGG19\n",
        "from tensorflow.keras.applications.resnet50 import preprocess_input\n",
        "from tensorflow.keras.preprocessing import image\n",
        "from tensorflow.keras.preprocessing.image import ImageDataGenerator,load_img\n",
        "import numpy as np\n",
        "import glob as glob"
      ],
      "execution_count": 8,
      "outputs": []
    },
    {
      "cell_type": "code",
      "metadata": {
        "id": "CWae0YUc9srB"
      },
      "source": [
        "image_size =[224,224]"
      ],
      "execution_count": 9,
      "outputs": []
    },
    {
      "cell_type": "code",
      "metadata": {
        "id": "lIBOdSsv9srC",
        "colab": {
          "base_uri": "https://localhost:8080/"
        },
        "outputId": "5117cd09-fd3e-44e9-f00f-afa2508295fd"
      },
      "source": [
        "vgg19 = VGG19(input_shape = image_size+[3],weights='imagenet',include_top=False)"
      ],
      "execution_count": 10,
      "outputs": [
        {
          "output_type": "stream",
          "text": [
            "Downloading data from https://storage.googleapis.com/tensorflow/keras-applications/vgg19/vgg19_weights_tf_dim_ordering_tf_kernels_notop.h5\n",
            "80142336/80134624 [==============================] - 1s 0us/step\n"
          ],
          "name": "stdout"
        }
      ]
    },
    {
      "cell_type": "code",
      "metadata": {
        "id": "QdXWxEWh9srD"
      },
      "source": [
        "for layer in vgg19.layers:\n",
        "    layer.trainable=False"
      ],
      "execution_count": 11,
      "outputs": []
    },
    {
      "cell_type": "code",
      "metadata": {
        "id": "4Ee6_nNj9srD"
      },
      "source": [
        "from glob import glob\n",
        "floder = glob('covid19-radiography-database/COVID-19_Radiography_Dataset/*')"
      ],
      "execution_count": 12,
      "outputs": []
    },
    {
      "cell_type": "code",
      "metadata": {
        "id": "TJbjsgmm9srE"
      },
      "source": [
        "floder"
      ],
      "execution_count": null,
      "outputs": []
    },
    {
      "cell_type": "code",
      "metadata": {
        "id": "5LHHU9UI9srG"
      },
      "source": [
        "x = Flatten()(vgg19.output)\n",
        "x1 = Dense(4,activation = 'softmax')(x)\n",
        "model = Model(inputs = vgg19.input,outputs = x1)"
      ],
      "execution_count": 14,
      "outputs": []
    },
    {
      "cell_type": "code",
      "metadata": {
        "scrolled": true,
        "id": "glBCtVWs9srH"
      },
      "source": [
        "model.summary()"
      ],
      "execution_count": null,
      "outputs": []
    },
    {
      "cell_type": "code",
      "metadata": {
        "id": "P8lruEyO9srI"
      },
      "source": [
        "model.compile(\n",
        "  loss='categorical_crossentropy',\n",
        "  optimizer='adam',\n",
        "  metrics=['accuracy'])"
      ],
      "execution_count": 16,
      "outputs": []
    },
    {
      "cell_type": "code",
      "metadata": {
        "id": "F-9SZOCO9srJ"
      },
      "source": [
        "datagen = ImageDataGenerator(rescale=1./255,\n",
        "    shear_range=0.2,\n",
        "    zoom_range=0.2,\n",
        "    horizontal_flip=True,\n",
        "    validation_split=0.2)"
      ],
      "execution_count": 17,
      "outputs": []
    },
    {
      "cell_type": "code",
      "metadata": {
        "id": "71-Wwh8g9srJ",
        "colab": {
          "base_uri": "https://localhost:8080/"
        },
        "outputId": "4266612c-6ea6-4a5a-e055-b53e6e7c6ca1"
      },
      "source": [
        "train_generator = datagen.flow_from_directory(\n",
        "    'covid19-radiography-database/COVID-19_Radiography_Dataset',\n",
        "    target_size = (224, 224),\n",
        "    batch_size = 32,\n",
        "    class_mode = 'categorical',\n",
        "     subset='training')"
      ],
      "execution_count": 18,
      "outputs": [
        {
          "output_type": "stream",
          "text": [
            "Found 16933 images belonging to 4 classes.\n"
          ],
          "name": "stdout"
        }
      ]
    },
    {
      "cell_type": "code",
      "metadata": {
        "id": "yDXot4d89srK",
        "colab": {
          "base_uri": "https://localhost:8080/"
        },
        "outputId": "50e664df-3c14-4d8f-a6e3-fe067ef4734f"
      },
      "source": [
        "validation_generator = datagen.flow_from_directory(\n",
        "    'covid19-radiography-database/COVID-19_Radiography_Dataset',\n",
        "    target_size = (224, 224),\n",
        "    batch_size = 32,\n",
        "    class_mode = 'categorical',\n",
        "    subset='validation')"
      ],
      "execution_count": 19,
      "outputs": [
        {
          "output_type": "stream",
          "text": [
            "Found 4232 images belonging to 4 classes.\n"
          ],
          "name": "stdout"
        }
      ]
    },
    {
      "cell_type": "code",
      "metadata": {
        "colab": {
          "base_uri": "https://localhost:8080/"
        },
        "id": "cz7bqC4pwEic",
        "outputId": "6801d90b-d2ff-42c7-ec58-baf9cdda87de"
      },
      "source": [
        "import tensorflow as tf\n",
        "device_name = tf.test.gpu_device_name()\n",
        "if device_name != '/device:GPU:0':\n",
        "  raise SystemError('GPU device not found')\n",
        "print('Found GPU at: {}'.format(device_name))"
      ],
      "execution_count": 20,
      "outputs": [
        {
          "output_type": "stream",
          "text": [
            "Found GPU at: /device:GPU:0\n"
          ],
          "name": "stdout"
        }
      ]
    },
    {
      "cell_type": "code",
      "metadata": {
        "scrolled": false,
        "id": "_BL50p2v9srL",
        "colab": {
          "base_uri": "https://localhost:8080/"
        },
        "outputId": "d2cfc376-0ecf-4065-86af-ae9f7663960a"
      },
      "source": [
        " h = model.fit(\n",
        "    train_generator,\n",
        "    steps_per_epoch = train_generator.samples // 32,\n",
        "    validation_data = validation_generator, \n",
        "    validation_steps = validation_generator.samples // 32,\n",
        "    epochs = 50)"
      ],
      "execution_count": 21,
      "outputs": [
        {
          "output_type": "stream",
          "text": [
            "Epoch 1/50\n",
            "529/529 [==============================] - 306s 507ms/step - loss: 0.8754 - accuracy: 0.6886 - val_loss: 0.4503 - val_accuracy: 0.8362\n",
            "Epoch 2/50\n",
            "529/529 [==============================] - 267s 505ms/step - loss: 0.5006 - accuracy: 0.8158 - val_loss: 0.4145 - val_accuracy: 0.8525\n",
            "Epoch 3/50\n",
            "529/529 [==============================] - 264s 499ms/step - loss: 0.4631 - accuracy: 0.8310 - val_loss: 0.4110 - val_accuracy: 0.8532\n",
            "Epoch 4/50\n",
            "529/529 [==============================] - 263s 497ms/step - loss: 0.4288 - accuracy: 0.8424 - val_loss: 0.5543 - val_accuracy: 0.8087\n",
            "Epoch 5/50\n",
            "529/529 [==============================] - 263s 497ms/step - loss: 0.4713 - accuracy: 0.8312 - val_loss: 0.4406 - val_accuracy: 0.8442\n",
            "Epoch 6/50\n",
            "529/529 [==============================] - 262s 495ms/step - loss: 0.4095 - accuracy: 0.8513 - val_loss: 0.5621 - val_accuracy: 0.8146\n",
            "Epoch 7/50\n",
            "529/529 [==============================] - 262s 496ms/step - loss: 0.4623 - accuracy: 0.8363 - val_loss: 0.4392 - val_accuracy: 0.8445\n",
            "Epoch 8/50\n",
            "529/529 [==============================] - 263s 497ms/step - loss: 0.4000 - accuracy: 0.8599 - val_loss: 0.3790 - val_accuracy: 0.8714\n",
            "Epoch 9/50\n",
            "529/529 [==============================] - 260s 492ms/step - loss: 0.3922 - accuracy: 0.8664 - val_loss: 0.5012 - val_accuracy: 0.8352\n",
            "Epoch 10/50\n",
            "529/529 [==============================] - 260s 491ms/step - loss: 0.3969 - accuracy: 0.8596 - val_loss: 0.4632 - val_accuracy: 0.8520\n",
            "Epoch 11/50\n",
            "529/529 [==============================] - 261s 494ms/step - loss: 0.3628 - accuracy: 0.8684 - val_loss: 0.4079 - val_accuracy: 0.8634\n",
            "Epoch 12/50\n",
            "529/529 [==============================] - 260s 492ms/step - loss: 0.3694 - accuracy: 0.8693 - val_loss: 0.3891 - val_accuracy: 0.8672\n",
            "Epoch 13/50\n",
            "529/529 [==============================] - 258s 488ms/step - loss: 0.3825 - accuracy: 0.8652 - val_loss: 0.3761 - val_accuracy: 0.8672\n",
            "Epoch 14/50\n",
            "529/529 [==============================] - 258s 488ms/step - loss: 0.3566 - accuracy: 0.8747 - val_loss: 0.4298 - val_accuracy: 0.8594\n",
            "Epoch 15/50\n",
            "529/529 [==============================] - 259s 489ms/step - loss: 0.3734 - accuracy: 0.8706 - val_loss: 0.3912 - val_accuracy: 0.8776\n",
            "Epoch 16/50\n",
            "529/529 [==============================] - 258s 488ms/step - loss: 0.3460 - accuracy: 0.8753 - val_loss: 0.4212 - val_accuracy: 0.8570\n",
            "Epoch 17/50\n",
            "529/529 [==============================] - 260s 492ms/step - loss: 0.3483 - accuracy: 0.8762 - val_loss: 0.3781 - val_accuracy: 0.8759\n",
            "Epoch 18/50\n",
            "529/529 [==============================] - 261s 494ms/step - loss: 0.3414 - accuracy: 0.8790 - val_loss: 0.3971 - val_accuracy: 0.8684\n",
            "Epoch 19/50\n",
            "529/529 [==============================] - 260s 492ms/step - loss: 0.3334 - accuracy: 0.8843 - val_loss: 0.5254 - val_accuracy: 0.8419\n",
            "Epoch 20/50\n",
            "529/529 [==============================] - 260s 491ms/step - loss: 0.3272 - accuracy: 0.8867 - val_loss: 0.4413 - val_accuracy: 0.8596\n",
            "Epoch 21/50\n",
            "529/529 [==============================] - 259s 489ms/step - loss: 0.3135 - accuracy: 0.8862 - val_loss: 0.5708 - val_accuracy: 0.8364\n",
            "Epoch 22/50\n",
            "529/529 [==============================] - 259s 490ms/step - loss: 0.3474 - accuracy: 0.8773 - val_loss: 0.3943 - val_accuracy: 0.8698\n",
            "Epoch 23/50\n",
            "529/529 [==============================] - 259s 490ms/step - loss: 0.3125 - accuracy: 0.8905 - val_loss: 0.4338 - val_accuracy: 0.8688\n",
            "Epoch 24/50\n",
            "529/529 [==============================] - 260s 491ms/step - loss: 0.3238 - accuracy: 0.8872 - val_loss: 0.4013 - val_accuracy: 0.8781\n",
            "Epoch 25/50\n",
            "529/529 [==============================] - 259s 490ms/step - loss: 0.3301 - accuracy: 0.8807 - val_loss: 0.4127 - val_accuracy: 0.8655\n",
            "Epoch 26/50\n",
            "529/529 [==============================] - 259s 490ms/step - loss: 0.3133 - accuracy: 0.8929 - val_loss: 0.4902 - val_accuracy: 0.8475\n",
            "Epoch 27/50\n",
            "529/529 [==============================] - 259s 490ms/step - loss: 0.3042 - accuracy: 0.8913 - val_loss: 0.5212 - val_accuracy: 0.8520\n",
            "Epoch 28/50\n",
            "529/529 [==============================] - 260s 491ms/step - loss: 0.3352 - accuracy: 0.8844 - val_loss: 0.4922 - val_accuracy: 0.8589\n",
            "Epoch 29/50\n",
            "529/529 [==============================] - 260s 491ms/step - loss: 0.3299 - accuracy: 0.8843 - val_loss: 0.5449 - val_accuracy: 0.8390\n",
            "Epoch 30/50\n",
            "529/529 [==============================] - 260s 492ms/step - loss: 0.3001 - accuracy: 0.8906 - val_loss: 0.5678 - val_accuracy: 0.8350\n",
            "Epoch 31/50\n",
            "529/529 [==============================] - 260s 491ms/step - loss: 0.3157 - accuracy: 0.8885 - val_loss: 0.3898 - val_accuracy: 0.8778\n",
            "Epoch 32/50\n",
            "529/529 [==============================] - 260s 492ms/step - loss: 0.2898 - accuracy: 0.8989 - val_loss: 0.5992 - val_accuracy: 0.8466\n",
            "Epoch 33/50\n",
            "529/529 [==============================] - 260s 491ms/step - loss: 0.3041 - accuracy: 0.8891 - val_loss: 0.4010 - val_accuracy: 0.8786\n",
            "Epoch 34/50\n",
            "529/529 [==============================] - 260s 491ms/step - loss: 0.2826 - accuracy: 0.8989 - val_loss: 0.6928 - val_accuracy: 0.8213\n",
            "Epoch 35/50\n",
            "529/529 [==============================] - 260s 491ms/step - loss: 0.3377 - accuracy: 0.8796 - val_loss: 0.4120 - val_accuracy: 0.8812\n",
            "Epoch 36/50\n",
            "529/529 [==============================] - 260s 492ms/step - loss: 0.3086 - accuracy: 0.8926 - val_loss: 0.4543 - val_accuracy: 0.8513\n",
            "Epoch 37/50\n",
            "529/529 [==============================] - 260s 491ms/step - loss: 0.2921 - accuracy: 0.8961 - val_loss: 0.5814 - val_accuracy: 0.8428\n",
            "Epoch 38/50\n",
            "529/529 [==============================] - 262s 496ms/step - loss: 0.3247 - accuracy: 0.8835 - val_loss: 0.5125 - val_accuracy: 0.8537\n",
            "Epoch 39/50\n",
            "529/529 [==============================] - 262s 495ms/step - loss: 0.3062 - accuracy: 0.8929 - val_loss: 0.4926 - val_accuracy: 0.8629\n",
            "Epoch 40/50\n",
            "529/529 [==============================] - 261s 494ms/step - loss: 0.2951 - accuracy: 0.8988 - val_loss: 0.5446 - val_accuracy: 0.8478\n",
            "Epoch 41/50\n",
            "529/529 [==============================] - 262s 495ms/step - loss: 0.3158 - accuracy: 0.8856 - val_loss: 0.4511 - val_accuracy: 0.8693\n",
            "Epoch 42/50\n",
            "529/529 [==============================] - 260s 492ms/step - loss: 0.2896 - accuracy: 0.8984 - val_loss: 0.4406 - val_accuracy: 0.8625\n",
            "Epoch 43/50\n",
            "529/529 [==============================] - 260s 491ms/step - loss: 0.3093 - accuracy: 0.8909 - val_loss: 0.4410 - val_accuracy: 0.8745\n",
            "Epoch 44/50\n",
            "529/529 [==============================] - 259s 490ms/step - loss: 0.3012 - accuracy: 0.8985 - val_loss: 0.4342 - val_accuracy: 0.8729\n",
            "Epoch 45/50\n",
            "529/529 [==============================] - 259s 489ms/step - loss: 0.3112 - accuracy: 0.8947 - val_loss: 0.4396 - val_accuracy: 0.8724\n",
            "Epoch 46/50\n",
            "529/529 [==============================] - 259s 489ms/step - loss: 0.2744 - accuracy: 0.9059 - val_loss: 0.5206 - val_accuracy: 0.8565\n",
            "Epoch 47/50\n",
            "529/529 [==============================] - 259s 490ms/step - loss: 0.2732 - accuracy: 0.9025 - val_loss: 0.4872 - val_accuracy: 0.8660\n",
            "Epoch 48/50\n",
            "529/529 [==============================] - 259s 490ms/step - loss: 0.2758 - accuracy: 0.9061 - val_loss: 0.4067 - val_accuracy: 0.8795\n",
            "Epoch 49/50\n",
            "529/529 [==============================] - 259s 489ms/step - loss: 0.3030 - accuracy: 0.8929 - val_loss: 0.5286 - val_accuracy: 0.8563\n",
            "Epoch 50/50\n",
            "529/529 [==============================] - 259s 490ms/step - loss: 0.2658 - accuracy: 0.9042 - val_loss: 0.4199 - val_accuracy: 0.8703\n"
          ],
          "name": "stdout"
        }
      ]
    },
    {
      "cell_type": "code",
      "metadata": {
        "id": "wfQi4iiy9srL",
        "colab": {
          "base_uri": "https://localhost:8080/",
          "height": 530
        },
        "outputId": "80075f9d-aa7e-4e81-b599-96264a968d5b"
      },
      "source": [
        "import matplotlib.pyplot as plt\n",
        "plt.plot(h.history['loss'], label='train loss')\n",
        "plt.plot(h.history['val_loss'], label='val loss')\n",
        "plt.legend()\n",
        "plt.show()\n",
        "\n",
        "plt.plot(h.history['accuracy'], label='train acc')\n",
        "plt.plot(h.history['val_accuracy'], label='val acc')\n",
        "plt.legend()\n",
        "plt.show()\n",
        "plt.savefig('AccVal_acc')"
      ],
      "execution_count": 30,
      "outputs": [
        {
          "output_type": "display_data",
          "data": {
            "image/png": "[encoded data removed]",
            "text/plain": [
              "<Figure size 432x288 with 1 Axes>"
            ]
          },
          "metadata": {
            "tags": [],
            "needs_background": "light"
          }
        },
        {
          "output_type": "display_data",
          "data": {
            "image/png": "[encoded data removed]",
            "text/plain": [
              "<Figure size 432x288 with 1 Axes>"
            ]
          },
          "metadata": {
            "tags": [],
            "needs_background": "light"
          }
        },
        {
          "output_type": "display_data",
          "data": {
            "text/plain": [
              "<Figure size 432x288 with 0 Axes>"
            ]
          },
          "metadata": {
            "tags": []
          }
        }
      ]
    },
    {
      "cell_type": "code",
      "metadata": {
        "id": "W1bdZV7P9srM",
        "colab": {
          "base_uri": "https://localhost:8080/"
        },
        "outputId": "16f3129e-57b6-4cb6-e9fe-4b2efa55da18"
      },
      "source": [
        "from tensorflow.keras.models import load_model\n",
        "model.save('lung_analysis.h5')\n",
        "print(\"loaded\")"
      ],
      "execution_count": 29,
      "outputs": [
        {
          "output_type": "stream",
          "text": [
            "loaded\n"
          ],
          "name": "stdout"
        }
      ]
    }
  ]
}